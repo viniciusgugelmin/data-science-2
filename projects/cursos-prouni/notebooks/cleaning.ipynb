{
 "cells": [
  {
   "cell_type": "markdown",
   "metadata": {},
   "source": [
    "# Configuração de ambiente"
   ]
  },
  {
   "cell_type": "markdown",
   "metadata": {},
   "source": [
    "Importação das bibliotecas:\n",
    "- Pandas: para manipulação de dados através do alias \"pd\"\n",
    "- Google Colab: para manipulação de arquivos no Google Drive\n",
    "\n",
    "E execução do comando \"%matplotlib inline\" para que os gráficos sejam exibidos no notebook logo abaixo da célula de código que os gerou."
   ]
  },
  {
   "cell_type": "code",
   "execution_count": null,
   "metadata": {},
   "outputs": [],
   "source": [
    "import pandas as pd\n",
    "from google.colab import drive\n",
    "\n",
    "%matplotlib inline"
   ]
  },
  {
   "cell_type": "markdown",
   "metadata": {},
   "source": [
    "Carregamento do Drive para que o notebook possa acessar os arquivos do Google Drive e com o parâmetro \"force_remount=True\" para que o Drive seja montado a cada execução do notebook."
   ]
  },
  {
   "cell_type": "code",
   "execution_count": null,
   "metadata": {},
   "outputs": [],
   "source": [
    "drive.mount('/content/drive', force_remount=True)"
   ]
  },
  {
   "cell_type": "markdown",
   "metadata": {},
   "source": [
    "# Leitura e visualização do dataset\n",
    "\n",
    "Leitura do arquivo \"dataset.csv\" através da função \"read_csv\" do Pandas e armazenamento do resultado na variável \"df\". Uso do parâmetro \"sep\" para informar qual o separador de colunas do arquivo e do parâmetro \"encoding\" para informar qual o tipo de codificação do arquivo."
   ]
  },
  {
   "cell_type": "code",
   "execution_count": null,
   "metadata": {},
   "outputs": [],
   "source": [
    "csv_url = \"https://github.com/viniciusgugelmin/data-science-2/blob/master/projects/cursos-prouni/data/dataset.csv?raw=true\"\n",
    "\n",
    "df = pd.read_csv(csv_url, sep=',', encoding='utf-8', low_memory=False)"
   ]
  }
 ],
 "metadata": {
  "kernelspec": {
   "display_name": "Python 3.9.12 64-bit ('anaconda3')",
   "language": "python",
   "name": "python3"
  },
  "language_info": {
   "name": "python",
   "version": "3.9.12"
  },
  "orig_nbformat": 4,
  "vscode": {
   "interpreter": {
    "hash": "bc2cefd0281c801cfecce64a6c6f045a8fc1e4c861b6297eb4e87b91b65006cb"
   }
  }
 },
 "nbformat": 4,
 "nbformat_minor": 2
}
