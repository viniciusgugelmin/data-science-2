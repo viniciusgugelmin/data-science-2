{
  "cells": [
    {
      "cell_type": "markdown",
      "metadata": {
        "id": "DUilYb17sQmS"
      },
      "source": [
        "# Configuração de ambiente"
      ]
    },
    {
      "cell_type": "markdown",
      "metadata": {
        "id": "d5oWpxhYsQmU"
      },
      "source": [
        "Importação das bibliotecas:\n",
        "- Pandas: para manipulação de dados através do alias \"pd\"\n",
        "- Google Colab: para manipulação de arquivos no Google Drive\n",
        "\n",
        "E execução do comando \"%matplotlib inline\" para que os gráficos sejam exibidos no notebook logo abaixo da célula de código que os gerou."
      ]
    },
    {
      "cell_type": "code",
      "execution_count": 1,
      "metadata": {
        "id": "9BGh_njIsQmV"
      },
      "outputs": [],
      "source": [
        "import pandas as pd\n",
        "from google.colab import drive\n",
        "\n",
        "%matplotlib inline"
      ]
    },
    {
      "cell_type": "markdown",
      "metadata": {
        "id": "gWISZv7hsQmV"
      },
      "source": [
        "Carregamento do Drive para que o notebook possa acessar os arquivos do Google Drive e com o parâmetro \"force_remount=True\" para que o Drive seja montado a cada execução do notebook."
      ]
    },
    {
      "cell_type": "code",
      "execution_count": 3,
      "metadata": {
        "id": "JS6L1f4-sQmW",
        "outputId": "1191f4ca-26d8-49d8-e94a-988691eb9b17",
        "colab": {
          "base_uri": "https://localhost:8080/"
        }
      },
      "outputs": [
        {
          "output_type": "stream",
          "name": "stdout",
          "text": [
            "Mounted at /content/drive\n"
          ]
        }
      ],
      "source": [
        "drive.mount('/content/drive', force_remount=True)"
      ]
    },
    {
      "cell_type": "markdown",
      "metadata": {
        "id": "PF1_2kKcsQmW"
      },
      "source": [
        "# Leitura e visualização do dataset\n",
        "\n",
        "Leitura do arquivo \"dataset.csv\" através da função \"read_csv\" do Pandas e armazenamento do resultado na variável \"df\". Uso do parâmetro \"sep\" para informar qual o separador de colunas do arquivo e do parâmetro \"encoding\" para informar qual o tipo de codificação do arquivo."
      ]
    },
    {
      "cell_type": "code",
      "execution_count": 4,
      "metadata": {
        "id": "OcP76I69sQmX"
      },
      "outputs": [],
      "source": [
        "csv_url = \"https://github.com/viniciusgugelmin/data-science-2/blob/master/projects/cursos-prouni/data/dataset.csv?raw=true\"\n",
        "\n",
        "df = pd.read_csv(csv_url, sep=',', encoding='utf-8', low_memory=False)"
      ]
    },
    {
      "cell_type": "markdown",
      "source": [
        "Exibição das 5 primeiras linhas do DataFrame através da função \"head\" do Pandas para verificar se o arquivo foi carregado corretamente e ter uma ideia do que ele contém."
      ],
      "metadata": {
        "id": "sfp_zpLzsh6S"
      }
    },
    {
      "cell_type": "code",
      "source": [
        "df.head()"
      ],
      "metadata": {
        "id": "B1QVB4ensibq",
        "outputId": "97278093-351b-4376-87e1-239f2ccd499b",
        "colab": {
          "base_uri": "https://localhost:8080/",
          "height": 478
        }
      },
      "execution_count": 5,
      "outputs": [
        {
          "output_type": "execute_result",
          "data": {
            "text/plain": [
              "          grau     turno  mensalidade  bolsa_integral_cotas  \\\n",
              "0  Bacharelado  Integral      9999.99                  15.0   \n",
              "1  Bacharelado   Noturno      9836.40                   1.0   \n",
              "2  Bacharelado  Integral      9715.61                   2.0   \n",
              "3  Bacharelado   Noturno      9689.34                   3.0   \n",
              "4  Bacharelado  Integral      9674.34                   4.0   \n",
              "\n",
              "   bolsa_integral_ampla  bolsa_parcial_cotas  bolsa_parcial_ampla  \\\n",
              "0                  14.0                  NaN                  NaN   \n",
              "1                   NaN                  NaN                  NaN   \n",
              "2                   5.0                  6.0                 10.0   \n",
              "3                   2.0                  NaN                  NaN   \n",
              "4                   1.0                  5.0                  2.0   \n",
              "\n",
              "          curso_id curso_busca  cidade_busca uf_busca     cidade_filtro  \\\n",
              "0     706710394154    Medicina  Campo Grande       MS  NTAwMjAwNDAyNzA0   \n",
              "1  104191210567043  Enfermagem       Crateus       CE  MjMwNDAxODA0MTAz   \n",
              "2    1002328574024    Medicina     Sao Paulo       SP  MzUxNTA2MTUwMzA4   \n",
              "3  104191212798093  Psicologia       Crateus       CE  MjMwNDAxODA0MTAz   \n",
              "4   65899611932754    Medicina    Rio Branco       AC  MTIwMjAwNDAwNDAx   \n",
              "\n",
              "                           universidade_nome  \\\n",
              "0          Universidade Anhanguera - UNIDERP   \n",
              "1          Faculdade Princesa do Oeste - FPO   \n",
              "2  Universidade Cidade de São Paulo - UNICID   \n",
              "3          Faculdade Princesa do Oeste - FPO   \n",
              "4        Faculdade Barão do Rio Branco - FAB   \n",
              "\n",
              "                                         campus_nome  campus_id        nome  \\\n",
              "0                 CAMPO GRANDE - SEDE - Miguel Couto     706710    Medicina   \n",
              "1                         UNIDADE SEDE - São Vicente    1041912  Enfermagem   \n",
              "2  UNIVERSIDADE CIDADE DE SÃO PAULO - UNICID - SE...    1002328    Medicina   \n",
              "3                         UNIDADE SEDE - São Vicente    1041912  Psicologia   \n",
              "4  CAMPUS  - RIO BRANCO - JARDIM EUROPA II - Jard...     658996    Medicina   \n",
              "\n",
              "   nota_integral_ampla  nota_integral_cotas  nota_parcial_ampla  \\\n",
              "0               740.22               726.46                 NaN   \n",
              "1               663.36                  NaN                 NaN   \n",
              "2               739.62               738.08              738.96   \n",
              "3               651.00               652.22                 NaN   \n",
              "4               758.32               723.94              734.92   \n",
              "\n",
              "   nota_parcial_cotas  \n",
              "0                 NaN  \n",
              "1                 NaN  \n",
              "2              718.64  \n",
              "3                 NaN  \n",
              "4              711.26  "
            ],
            "text/html": [
              "\n",
              "  <div id=\"df-399457a6-40c9-44a9-82a0-4bcaa3aa5a67\">\n",
              "    <div class=\"colab-df-container\">\n",
              "      <div>\n",
              "<style scoped>\n",
              "    .dataframe tbody tr th:only-of-type {\n",
              "        vertical-align: middle;\n",
              "    }\n",
              "\n",
              "    .dataframe tbody tr th {\n",
              "        vertical-align: top;\n",
              "    }\n",
              "\n",
              "    .dataframe thead th {\n",
              "        text-align: right;\n",
              "    }\n",
              "</style>\n",
              "<table border=\"1\" class=\"dataframe\">\n",
              "  <thead>\n",
              "    <tr style=\"text-align: right;\">\n",
              "      <th></th>\n",
              "      <th>grau</th>\n",
              "      <th>turno</th>\n",
              "      <th>mensalidade</th>\n",
              "      <th>bolsa_integral_cotas</th>\n",
              "      <th>bolsa_integral_ampla</th>\n",
              "      <th>bolsa_parcial_cotas</th>\n",
              "      <th>bolsa_parcial_ampla</th>\n",
              "      <th>curso_id</th>\n",
              "      <th>curso_busca</th>\n",
              "      <th>cidade_busca</th>\n",
              "      <th>uf_busca</th>\n",
              "      <th>cidade_filtro</th>\n",
              "      <th>universidade_nome</th>\n",
              "      <th>campus_nome</th>\n",
              "      <th>campus_id</th>\n",
              "      <th>nome</th>\n",
              "      <th>nota_integral_ampla</th>\n",
              "      <th>nota_integral_cotas</th>\n",
              "      <th>nota_parcial_ampla</th>\n",
              "      <th>nota_parcial_cotas</th>\n",
              "    </tr>\n",
              "  </thead>\n",
              "  <tbody>\n",
              "    <tr>\n",
              "      <th>0</th>\n",
              "      <td>Bacharelado</td>\n",
              "      <td>Integral</td>\n",
              "      <td>9999.99</td>\n",
              "      <td>15.0</td>\n",
              "      <td>14.0</td>\n",
              "      <td>NaN</td>\n",
              "      <td>NaN</td>\n",
              "      <td>706710394154</td>\n",
              "      <td>Medicina</td>\n",
              "      <td>Campo Grande</td>\n",
              "      <td>MS</td>\n",
              "      <td>NTAwMjAwNDAyNzA0</td>\n",
              "      <td>Universidade Anhanguera - UNIDERP</td>\n",
              "      <td>CAMPO GRANDE - SEDE - Miguel Couto</td>\n",
              "      <td>706710</td>\n",
              "      <td>Medicina</td>\n",
              "      <td>740.22</td>\n",
              "      <td>726.46</td>\n",
              "      <td>NaN</td>\n",
              "      <td>NaN</td>\n",
              "    </tr>\n",
              "    <tr>\n",
              "      <th>1</th>\n",
              "      <td>Bacharelado</td>\n",
              "      <td>Noturno</td>\n",
              "      <td>9836.40</td>\n",
              "      <td>1.0</td>\n",
              "      <td>NaN</td>\n",
              "      <td>NaN</td>\n",
              "      <td>NaN</td>\n",
              "      <td>104191210567043</td>\n",
              "      <td>Enfermagem</td>\n",
              "      <td>Crateus</td>\n",
              "      <td>CE</td>\n",
              "      <td>MjMwNDAxODA0MTAz</td>\n",
              "      <td>Faculdade Princesa do Oeste - FPO</td>\n",
              "      <td>UNIDADE SEDE - São Vicente</td>\n",
              "      <td>1041912</td>\n",
              "      <td>Enfermagem</td>\n",
              "      <td>663.36</td>\n",
              "      <td>NaN</td>\n",
              "      <td>NaN</td>\n",
              "      <td>NaN</td>\n",
              "    </tr>\n",
              "    <tr>\n",
              "      <th>2</th>\n",
              "      <td>Bacharelado</td>\n",
              "      <td>Integral</td>\n",
              "      <td>9715.61</td>\n",
              "      <td>2.0</td>\n",
              "      <td>5.0</td>\n",
              "      <td>6.0</td>\n",
              "      <td>10.0</td>\n",
              "      <td>1002328574024</td>\n",
              "      <td>Medicina</td>\n",
              "      <td>Sao Paulo</td>\n",
              "      <td>SP</td>\n",
              "      <td>MzUxNTA2MTUwMzA4</td>\n",
              "      <td>Universidade Cidade de São Paulo - UNICID</td>\n",
              "      <td>UNIVERSIDADE CIDADE DE SÃO PAULO - UNICID - SE...</td>\n",
              "      <td>1002328</td>\n",
              "      <td>Medicina</td>\n",
              "      <td>739.62</td>\n",
              "      <td>738.08</td>\n",
              "      <td>738.96</td>\n",
              "      <td>718.64</td>\n",
              "    </tr>\n",
              "    <tr>\n",
              "      <th>3</th>\n",
              "      <td>Bacharelado</td>\n",
              "      <td>Noturno</td>\n",
              "      <td>9689.34</td>\n",
              "      <td>3.0</td>\n",
              "      <td>2.0</td>\n",
              "      <td>NaN</td>\n",
              "      <td>NaN</td>\n",
              "      <td>104191212798093</td>\n",
              "      <td>Psicologia</td>\n",
              "      <td>Crateus</td>\n",
              "      <td>CE</td>\n",
              "      <td>MjMwNDAxODA0MTAz</td>\n",
              "      <td>Faculdade Princesa do Oeste - FPO</td>\n",
              "      <td>UNIDADE SEDE - São Vicente</td>\n",
              "      <td>1041912</td>\n",
              "      <td>Psicologia</td>\n",
              "      <td>651.00</td>\n",
              "      <td>652.22</td>\n",
              "      <td>NaN</td>\n",
              "      <td>NaN</td>\n",
              "    </tr>\n",
              "    <tr>\n",
              "      <th>4</th>\n",
              "      <td>Bacharelado</td>\n",
              "      <td>Integral</td>\n",
              "      <td>9674.34</td>\n",
              "      <td>4.0</td>\n",
              "      <td>1.0</td>\n",
              "      <td>5.0</td>\n",
              "      <td>2.0</td>\n",
              "      <td>65899611932754</td>\n",
              "      <td>Medicina</td>\n",
              "      <td>Rio Branco</td>\n",
              "      <td>AC</td>\n",
              "      <td>MTIwMjAwNDAwNDAx</td>\n",
              "      <td>Faculdade Barão do Rio Branco - FAB</td>\n",
              "      <td>CAMPUS  - RIO BRANCO - JARDIM EUROPA II - Jard...</td>\n",
              "      <td>658996</td>\n",
              "      <td>Medicina</td>\n",
              "      <td>758.32</td>\n",
              "      <td>723.94</td>\n",
              "      <td>734.92</td>\n",
              "      <td>711.26</td>\n",
              "    </tr>\n",
              "  </tbody>\n",
              "</table>\n",
              "</div>\n",
              "      <button class=\"colab-df-convert\" onclick=\"convertToInteractive('df-399457a6-40c9-44a9-82a0-4bcaa3aa5a67')\"\n",
              "              title=\"Convert this dataframe to an interactive table.\"\n",
              "              style=\"display:none;\">\n",
              "        \n",
              "  <svg xmlns=\"http://www.w3.org/2000/svg\" height=\"24px\"viewBox=\"0 0 24 24\"\n",
              "       width=\"24px\">\n",
              "    <path d=\"M0 0h24v24H0V0z\" fill=\"none\"/>\n",
              "    <path d=\"M18.56 5.44l.94 2.06.94-2.06 2.06-.94-2.06-.94-.94-2.06-.94 2.06-2.06.94zm-11 1L8.5 8.5l.94-2.06 2.06-.94-2.06-.94L8.5 2.5l-.94 2.06-2.06.94zm10 10l.94 2.06.94-2.06 2.06-.94-2.06-.94-.94-2.06-.94 2.06-2.06.94z\"/><path d=\"M17.41 7.96l-1.37-1.37c-.4-.4-.92-.59-1.43-.59-.52 0-1.04.2-1.43.59L10.3 9.45l-7.72 7.72c-.78.78-.78 2.05 0 2.83L4 21.41c.39.39.9.59 1.41.59.51 0 1.02-.2 1.41-.59l7.78-7.78 2.81-2.81c.8-.78.8-2.07 0-2.86zM5.41 20L4 18.59l7.72-7.72 1.47 1.35L5.41 20z\"/>\n",
              "  </svg>\n",
              "      </button>\n",
              "      \n",
              "  <style>\n",
              "    .colab-df-container {\n",
              "      display:flex;\n",
              "      flex-wrap:wrap;\n",
              "      gap: 12px;\n",
              "    }\n",
              "\n",
              "    .colab-df-convert {\n",
              "      background-color: #E8F0FE;\n",
              "      border: none;\n",
              "      border-radius: 50%;\n",
              "      cursor: pointer;\n",
              "      display: none;\n",
              "      fill: #1967D2;\n",
              "      height: 32px;\n",
              "      padding: 0 0 0 0;\n",
              "      width: 32px;\n",
              "    }\n",
              "\n",
              "    .colab-df-convert:hover {\n",
              "      background-color: #E2EBFA;\n",
              "      box-shadow: 0px 1px 2px rgba(60, 64, 67, 0.3), 0px 1px 3px 1px rgba(60, 64, 67, 0.15);\n",
              "      fill: #174EA6;\n",
              "    }\n",
              "\n",
              "    [theme=dark] .colab-df-convert {\n",
              "      background-color: #3B4455;\n",
              "      fill: #D2E3FC;\n",
              "    }\n",
              "\n",
              "    [theme=dark] .colab-df-convert:hover {\n",
              "      background-color: #434B5C;\n",
              "      box-shadow: 0px 1px 3px 1px rgba(0, 0, 0, 0.15);\n",
              "      filter: drop-shadow(0px 1px 2px rgba(0, 0, 0, 0.3));\n",
              "      fill: #FFFFFF;\n",
              "    }\n",
              "  </style>\n",
              "\n",
              "      <script>\n",
              "        const buttonEl =\n",
              "          document.querySelector('#df-399457a6-40c9-44a9-82a0-4bcaa3aa5a67 button.colab-df-convert');\n",
              "        buttonEl.style.display =\n",
              "          google.colab.kernel.accessAllowed ? 'block' : 'none';\n",
              "\n",
              "        async function convertToInteractive(key) {\n",
              "          const element = document.querySelector('#df-399457a6-40c9-44a9-82a0-4bcaa3aa5a67');\n",
              "          const dataTable =\n",
              "            await google.colab.kernel.invokeFunction('convertToInteractive',\n",
              "                                                     [key], {});\n",
              "          if (!dataTable) return;\n",
              "\n",
              "          const docLinkHtml = 'Like what you see? Visit the ' +\n",
              "            '<a target=\"_blank\" href=https://colab.research.google.com/notebooks/data_table.ipynb>data table notebook</a>'\n",
              "            + ' to learn more about interactive tables.';\n",
              "          element.innerHTML = '';\n",
              "          dataTable['output_type'] = 'display_data';\n",
              "          await google.colab.output.renderOutput(dataTable, element);\n",
              "          const docLink = document.createElement('div');\n",
              "          docLink.innerHTML = docLinkHtml;\n",
              "          element.appendChild(docLink);\n",
              "        }\n",
              "      </script>\n",
              "    </div>\n",
              "  </div>\n",
              "  "
            ]
          },
          "metadata": {},
          "execution_count": 5
        }
      ]
    },
    {
      "cell_type": "markdown",
      "source": [
        "# Processo de limpeza de dados nulos e padronização de dados"
      ],
      "metadata": {
        "id": "fbFllFsasnGu"
      }
    },
    {
      "cell_type": "code",
      "source": [
        "df.info()"
      ],
      "metadata": {
        "id": "fZSbXr5Ds8CS",
        "outputId": "0c283b1c-fd25-4835-f715-b3cf20555a14",
        "colab": {
          "base_uri": "https://localhost:8080/"
        }
      },
      "execution_count": 6,
      "outputs": [
        {
          "output_type": "stream",
          "name": "stdout",
          "text": [
            "<class 'pandas.core.frame.DataFrame'>\n",
            "RangeIndex: 41447 entries, 0 to 41446\n",
            "Data columns (total 20 columns):\n",
            " #   Column                Non-Null Count  Dtype  \n",
            "---  ------                --------------  -----  \n",
            " 0   grau                  41447 non-null  object \n",
            " 1   turno                 41447 non-null  object \n",
            " 2   mensalidade           41447 non-null  float64\n",
            " 3   bolsa_integral_cotas  32520 non-null  float64\n",
            " 4   bolsa_integral_ampla  25404 non-null  float64\n",
            " 5   bolsa_parcial_cotas   8828 non-null   float64\n",
            " 6   bolsa_parcial_ampla   13041 non-null  float64\n",
            " 7   curso_id              41447 non-null  int64  \n",
            " 8   curso_busca           41447 non-null  object \n",
            " 9   cidade_busca          41447 non-null  object \n",
            " 10  uf_busca              41447 non-null  object \n",
            " 11  cidade_filtro         41447 non-null  object \n",
            " 12  universidade_nome     41447 non-null  object \n",
            " 13  campus_nome           41447 non-null  object \n",
            " 14  campus_id             41447 non-null  int64  \n",
            " 15  nome                  41447 non-null  object \n",
            " 16  nota_integral_ampla   32520 non-null  float64\n",
            " 17  nota_integral_cotas   16802 non-null  float64\n",
            " 18  nota_parcial_ampla    16350 non-null  float64\n",
            " 19  nota_parcial_cotas    5519 non-null   float64\n",
            "dtypes: float64(9), int64(2), object(9)\n",
            "memory usage: 6.3+ MB\n"
          ]
        }
      ]
    },
    {
      "cell_type": "markdown",
      "source": [
        "Preenchimento de colunas que estão com valores nulos para 0 para não interferir em possíveis cálculos."
      ],
      "metadata": {
        "id": "AnCbHeqns_vQ"
      }
    },
    {
      "cell_type": "code",
      "source": [
        "df_cleaned = df.copy()\n",
        "\n",
        "df_cleaned['bolsa_integral_cotas'] = df_cleaned['bolsa_integral_cotas'].fillna(0)\n",
        "df_cleaned['bolsa_integral_ampla'] = df_cleaned['bolsa_integral_ampla'].fillna(0)\n",
        "df_cleaned['bolsa_parcial_cotas'] = df_cleaned['bolsa_parcial_cotas'].fillna(0)\n",
        "df_cleaned['bolsa_parcial_ampla'] = df_cleaned['bolsa_parcial_ampla'].fillna(0)\n",
        "df_cleaned['nota_integral_ampla'] = df_cleaned['nota_integral_ampla'].fillna(0)\n",
        "df_cleaned['nota_integral_cotas'] = df_cleaned['nota_integral_cotas'].fillna(0)\n",
        "df_cleaned['nota_parcial_ampla'] = df_cleaned['nota_parcial_ampla'].fillna(0)\n",
        "df_cleaned['nota_parcial_cotas'] = df_cleaned['nota_parcial_cotas'].fillna(0)\n",
        "\n",
        "df_cleaned.info()"
      ],
      "metadata": {
        "id": "ni0o3lxotHGQ",
        "outputId": "1df050af-5948-49da-c9a8-d2d5e5a86013",
        "colab": {
          "base_uri": "https://localhost:8080/"
        }
      },
      "execution_count": 9,
      "outputs": [
        {
          "output_type": "stream",
          "name": "stdout",
          "text": [
            "<class 'pandas.core.frame.DataFrame'>\n",
            "RangeIndex: 41447 entries, 0 to 41446\n",
            "Data columns (total 20 columns):\n",
            " #   Column                Non-Null Count  Dtype  \n",
            "---  ------                --------------  -----  \n",
            " 0   grau                  41447 non-null  object \n",
            " 1   turno                 41447 non-null  object \n",
            " 2   mensalidade           41447 non-null  float64\n",
            " 3   bolsa_integral_cotas  41447 non-null  float64\n",
            " 4   bolsa_integral_ampla  41447 non-null  float64\n",
            " 5   bolsa_parcial_cotas   41447 non-null  float64\n",
            " 6   bolsa_parcial_ampla   41447 non-null  float64\n",
            " 7   curso_id              41447 non-null  int64  \n",
            " 8   curso_busca           41447 non-null  object \n",
            " 9   cidade_busca          41447 non-null  object \n",
            " 10  uf_busca              41447 non-null  object \n",
            " 11  cidade_filtro         41447 non-null  object \n",
            " 12  universidade_nome     41447 non-null  object \n",
            " 13  campus_nome           41447 non-null  object \n",
            " 14  campus_id             41447 non-null  int64  \n",
            " 15  nome                  41447 non-null  object \n",
            " 16  nota_integral_ampla   41447 non-null  float64\n",
            " 17  nota_integral_cotas   41447 non-null  float64\n",
            " 18  nota_parcial_ampla    41447 non-null  float64\n",
            " 19  nota_parcial_cotas    41447 non-null  float64\n",
            "dtypes: float64(9), int64(2), object(9)\n",
            "memory usage: 6.3+ MB\n"
          ]
        }
      ]
    },
    {
      "cell_type": "markdown",
      "source": [
        "# Salvando dados limpos"
      ],
      "metadata": {
        "id": "mg7GWsD4t_35"
      }
    },
    {
      "cell_type": "markdown",
      "source": [
        "Para salvar os dados limpos em um arquivo, vamos usar o método to_csv"
      ],
      "metadata": {
        "id": "ZGX1MrLWuBuh"
      }
    },
    {
      "cell_type": "code",
      "source": [
        "df_cleaned.to_csv('/content/drive/MyDrive/UP/Ciência de Dados/Notebooks/data/dataset_clean.csv', index=False, sep=';')"
      ],
      "metadata": {
        "id": "yJrTgqaGuCtg"
      },
      "execution_count": 10,
      "outputs": []
    }
  ],
  "metadata": {
    "kernelspec": {
      "display_name": "Python 3.9.12 64-bit ('anaconda3')",
      "language": "python",
      "name": "python3"
    },
    "language_info": {
      "name": "python",
      "version": "3.9.12"
    },
    "orig_nbformat": 4,
    "vscode": {
      "interpreter": {
        "hash": "bc2cefd0281c801cfecce64a6c6f045a8fc1e4c861b6297eb4e87b91b65006cb"
      }
    },
    "colab": {
      "provenance": []
    }
  },
  "nbformat": 4,
  "nbformat_minor": 0
}